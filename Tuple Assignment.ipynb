{
 "cells": [
  {
   "cell_type": "markdown",
   "id": "1e748377",
   "metadata": {},
   "source": [
    "# 1)Select which is true for Python tuple\n",
    "a)\t  A tuple maintains the order of items                                                                                     \n",
    "b)\t  A tuple is unordered                                                                                                     \n",
    "c)\t  We cannot change the tuple once created                                                                                   \n",
    "d)\t  We can change the tuple once created                                                                                     \n"
   ]
  },
  {
   "cell_type": "markdown",
   "id": "dc70066b",
   "metadata": {},
   "source": [
    "**Ans: a)A tuple maintains the order of items**   &                                                                                  **c) We cannot change the tuple once created**"
   ]
  },
  {
   "cell_type": "markdown",
   "id": "f44b806c",
   "metadata": {},
   "source": [
    "# 2) Access value 20 from the following tuple\n",
    "       aTuple = (\"Orange\", [10, 20, 30], (5, 15, 25))\n"
   ]
  },
  {
   "cell_type": "code",
   "execution_count": 1,
   "id": "9ef86a71",
   "metadata": {},
   "outputs": [
    {
     "name": "stdout",
     "output_type": "stream",
     "text": [
      "20\n"
     ]
    }
   ],
   "source": [
    "tuple1 = (\"Orange\", [10, 20, 30], (5, 15, 25))\n",
    "print(tuple1[1][1])"
   ]
  },
  {
   "cell_type": "markdown",
   "id": "57c89247",
   "metadata": {},
   "source": [
    "# 3) Unpack the following tuple into 4 variables\n",
    "aTuple = (10, 20, 30, 40)\n"
   ]
  },
  {
   "cell_type": "code",
   "execution_count": 2,
   "id": "ccbf6711",
   "metadata": {},
   "outputs": [
    {
     "name": "stdout",
     "output_type": "stream",
     "text": [
      "10\n",
      "20\n",
      "30\n",
      "40\n"
     ]
    }
   ],
   "source": [
    "aTuple = (10, 20, 30, 40)\n",
    "a, b, c, d = aTuple\n",
    "print(a)\n",
    "print(b)\n",
    "print(c)\n",
    "print(d)"
   ]
  },
  {
   "cell_type": "markdown",
   "id": "132ed0f1",
   "metadata": {},
   "source": [
    "# 4) Copy element 44 and 55 from the following tuple into a new tuple\n",
    "       tuple1 = (11, 22, 33, 44, 55, 66)\n"
   ]
  },
  {
   "cell_type": "code",
   "execution_count": 3,
   "id": "498fea4f",
   "metadata": {},
   "outputs": [
    {
     "name": "stdout",
     "output_type": "stream",
     "text": [
      "(44, 55)\n"
     ]
    }
   ],
   "source": [
    "tuple1 = (11, 22, 33, 44, 55, 66)\n",
    "tuple2 = tuple1[3:-1]\n",
    "print(tuple2)"
   ]
  },
  {
   "cell_type": "markdown",
   "id": "04ae8edd",
   "metadata": {},
   "source": [
    "# 5) Counts the number of occurrences of item 50 from a tuple\n",
    "              tuple1 = (50, 10, 60, 70, 50)\n"
   ]
  },
  {
   "cell_type": "code",
   "execution_count": 4,
   "id": "b49ab864",
   "metadata": {},
   "outputs": [
    {
     "name": "stdout",
     "output_type": "stream",
     "text": [
      "2\n"
     ]
    }
   ],
   "source": [
    "tuple1 = (50, 10, 60, 70, 50)\n",
    "print(tuple1.count(50))"
   ]
  },
  {
   "cell_type": "markdown",
   "id": "a745ea5a",
   "metadata": {},
   "source": [
    "# 6) Modify the first item (22) of a list inside a following tuple to 222\n",
    "        tuple1 = (11, [22, 33], 44, 55)\n"
   ]
  },
  {
   "cell_type": "code",
   "execution_count": 5,
   "id": "53ac1b61",
   "metadata": {},
   "outputs": [
    {
     "name": "stdout",
     "output_type": "stream",
     "text": [
      "(11, [222, 33], 44, 55)\n"
     ]
    }
   ],
   "source": [
    "tuple1 = (11, [22, 33], 44, 55)\n",
    "tuple1[1][0] = 222\n",
    "print(tuple1)"
   ]
  },
  {
   "cell_type": "markdown",
   "id": "0283052b",
   "metadata": {},
   "source": [
    "# 7) Swap the following two tuples\n",
    "         tuple1 = (11, 22)\n",
    "         tuple2 = (99, 88)\n"
   ]
  },
  {
   "cell_type": "code",
   "execution_count": 6,
   "id": "47b46602",
   "metadata": {},
   "outputs": [
    {
     "name": "stdout",
     "output_type": "stream",
     "text": [
      "(11, 22)\n",
      "(99, 88)\n"
     ]
    }
   ],
   "source": [
    "tuple1 = (11, 22)\n",
    "tuple2 = (99, 88)\n",
    "tuple1, tuple2 = tuple2, tuple1\n",
    "print(tuple2)\n",
    "print(tuple1)"
   ]
  },
  {
   "cell_type": "markdown",
   "id": "b30e9651",
   "metadata": {},
   "source": [
    "# 8) Reverse the following tuple\n",
    "aTuple = (10, 20, 30, 40, 50)\n"
   ]
  },
  {
   "cell_type": "code",
   "execution_count": 7,
   "id": "aa3fb11c",
   "metadata": {},
   "outputs": [
    {
     "name": "stdout",
     "output_type": "stream",
     "text": [
      "(50, 40, 30, 20, 10)\n"
     ]
    }
   ],
   "source": [
    "tuple1 = (10, 20, 30, 40, 50)\n",
    "tuple1 = tuple1[::-1]\n",
    "print(tuple1)"
   ]
  },
  {
   "cell_type": "markdown",
   "id": "040fa750",
   "metadata": {},
   "source": [
    "# 9) Select true statements regarding the Python tuple\n",
    "a)\t  We can remove the item from tuple but we cannot update items of the tuple                                                 \n",
    "b)\t  We cannot delete the tuple                                                                                               \n",
    "c)\t  We cannot remove the items from the tuple                                                                               \n",
    "d)\t  We cannot update items of the tuple.                                                                               \n"
   ]
  },
  {
   "cell_type": "markdown",
   "id": "16e21e2b",
   "metadata": {},
   "source": [
    "Ans:                                                                                                                          c)We cannot remove the items from the tuple                                                                                 \n",
    "d)We cannot update items of the tuple.                                                                                          "
   ]
  },
  {
   "cell_type": "code",
   "execution_count": null,
   "id": "cc7eeb3e",
   "metadata": {},
   "outputs": [],
   "source": []
  }
 ],
 "metadata": {
  "kernelspec": {
   "display_name": "Python 3 (ipykernel)",
   "language": "python",
   "name": "python3"
  },
  "language_info": {
   "codemirror_mode": {
    "name": "ipython",
    "version": 3
   },
   "file_extension": ".py",
   "mimetype": "text/x-python",
   "name": "python",
   "nbconvert_exporter": "python",
   "pygments_lexer": "ipython3",
   "version": "3.9.7"
  }
 },
 "nbformat": 4,
 "nbformat_minor": 5
}
